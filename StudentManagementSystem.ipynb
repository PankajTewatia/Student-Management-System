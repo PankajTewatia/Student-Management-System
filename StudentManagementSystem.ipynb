{
 "cells": [
  {
   "cell_type": "code",
   "execution_count": 1,
   "metadata": {},
   "outputs": [],
   "source": [
    "# Importing important libraries\n",
    "import random,string\n",
    "# Taking an empty list to store student ids\n",
    "student_id=[]\n",
    "# Taking an empty list to store student names\n",
    "student_name=[]\n",
    "# Taking an empty list to store students age\n",
    "student_age=[]\n",
    "# Taking an empty list to store students city\n",
    "student_city=[]\n",
    "# Taking an empty dictionary to store student details\n",
    "student={}"
   ]
  },
  {
   "cell_type": "code",
   "execution_count": 2,
   "metadata": {},
   "outputs": [],
   "source": [
    "# Function to add a student\n",
    "def Add(name,age,city):\n",
    "    # Generating random alphanumeric id of length 6\n",
    "    id = ''.join(random.choices(string.ascii_letters + string.digits, k=6))\n",
    "    # Appending student details in their respective lists\n",
    "    student_id.append(id)\n",
    "    student_name.append(name)\n",
    "    student_age.append(age)\n",
    "    student_city.append(city)\n",
    "    # Updating dictionary with student records\n",
    "    student.update({id:[name,age,city]})\n",
    "    # Using for loop to print student details\n",
    "    for key,value in student.items():\n",
    "        print(f\"Student(id,name,age,city): {key,value}\\n\")"
   ]
  },
  {
   "cell_type": "code",
   "execution_count": 3,
   "metadata": {},
   "outputs": [],
   "source": [
    "# Function to update student records\n",
    "def update():\n",
    "    # Asking for id to update records\n",
    "    i=input(\"Enter id:\")\n",
    "    if i in student.keys():\n",
    "        name=input(\"Enter a name:\")\n",
    "        age=int(input(\"Enter a age:\"))\n",
    "        city=input(\"Enter a city:\")\n",
    "        # Updating the dictionary with new records however id remains the same\n",
    "        student.update({i:[name,age,city]})\n",
    "        print(\"Updated successfully!\\n\")\n",
    "    else:\n",
    "        print(\"Enter a valid id!\\n\")"
   ]
  },
  {
   "cell_type": "code",
   "execution_count": 4,
   "metadata": {},
   "outputs": [],
   "source": [
    "# Function to delete any record\n",
    "def Delete():\n",
    "    # Asking for id\n",
    "    i = (input(\"Enter id:\"))\n",
    "    # If id is present in dictionary then poping that record from the dictionary\n",
    "    if i in student.keys():\n",
    "        student.pop(i)\n",
    "        print(\"Record deleted successfully.\\n\")\n",
    "    else:\n",
    "        print(\"Enter a valid id!\\n\")"
   ]
  },
  {
   "cell_type": "code",
   "execution_count": 5,
   "metadata": {},
   "outputs": [],
   "source": [
    "# Function to view any record\n",
    "def View():\n",
    "    # Asking for id\n",
    "    i = input(\"Enter id:\")\n",
    "    # Checking if the id is present in the dictionary\n",
    "    if i in student.keys():\n",
    "        # Displaying desired record\n",
    "        for key, value in student.items():\n",
    "            if key==i:\n",
    "                print(f\"Student details: {key,value}\\n\")\n",
    "    else:\n",
    "        print(\"Enter a valid id!\\n\")"
   ]
  },
  {
   "cell_type": "code",
   "execution_count": 6,
   "metadata": {},
   "outputs": [
    {
     "name": "stdout",
     "output_type": "stream",
     "text": [
      "\t\t\tStudent Management System\n",
      "\n",
      "1.Add 2.Updated 3.Delete 4.View 5.Save 6.Quit\n",
      "Enter a choice:2\n",
      "Enter id:121\n",
      "Enter a valid id!\n",
      "\n",
      "1.Add 2.Updated 3.Delete 4.View 5.Save 6.Quit\n",
      "Enter a choice:1\n",
      "Enter name:pnkj\n",
      "Enter age:40\n",
      "Enter city:ggn\n",
      "Student(id,name,age,city): ('Gtat5K', ['pnkj', 40, 'ggn'])\n",
      "\n",
      "1.Add 2.Updated 3.Delete 4.View 5.Save 6.Quit\n",
      "Enter a choice:2\n",
      "Enter id:Gtat5k\n",
      "Enter a valid id!\n",
      "\n",
      "1.Add 2.Updated 3.Delete 4.View 5.Save 6.Quit\n",
      "Enter a choice:4\n",
      "Enter id:Gtat5K\n",
      "Student details: ('Gtat5K', ['pnkj', 40, 'ggn'])\n",
      "\n",
      "1.Add 2.Updated 3.Delete 4.View 5.Save 6.Quit\n",
      "Enter a choice:5\n",
      "Saved Successfully!\n",
      "\n",
      "1.Add 2.Updated 3.Delete 4.View 5.Save 6.Quit\n",
      "Enter a choice:6\n"
     ]
    }
   ],
   "source": [
    "print(\"\\t\\t\\tStudent Management System\\n\")\n",
    "# Creating an infinite loop\n",
    "while True:\n",
    "    print(\"1.Add 2.Updated 3.Delete 4.View 5.Save 6.Quit\")\n",
    "    # Asking for choice\n",
    "    try:\n",
    "        choice= int(input(\"Enter a choice:\"))\n",
    "    except Exception as e:\n",
    "        print(\"Select a valid option!\\n\")\n",
    "        continue\n",
    "\n",
    "    #if choice 1 is selected then Add() function is called\n",
    "    if choice==1:\n",
    "        n=input(\"Enter name:\")\n",
    "        a=int(input(\"Enter age:\"))\n",
    "        c=input(\"Enter city:\")\n",
    "        Add(n,a,c)\n",
    "    # if choice 2 is selected then Update() function is called\n",
    "    elif choice==2:\n",
    "        update()\n",
    "    # if choice 3 is selected then Delete() function is called\n",
    "    elif choice==3:\n",
    "        Delete()\n",
    "    # if choice 4 is selected then View() function is called\n",
    "    elif choice==4:\n",
    "        View()\n",
    "    # if choice 5 is selected then it is shows saving the record\n",
    "    elif choice==5:\n",
    "        print(\"Saved Successfully!\\n\")\n",
    "    # if choice 6 is selected then its breaking the loop\n",
    "    elif choice==6:\n",
    "        break\n",
    "    else:\n",
    "        print(\"Enter a valid choice.\\n\")\n"
   ]
  },
  {
   "cell_type": "code",
   "execution_count": null,
   "metadata": {},
   "outputs": [],
   "source": []
  }
 ],
 "metadata": {
  "kernelspec": {
   "display_name": "Python 3",
   "language": "python",
   "name": "python3"
  },
  "language_info": {
   "codemirror_mode": {
    "name": "ipython",
    "version": 3
   },
   "file_extension": ".py",
   "mimetype": "text/x-python",
   "name": "python",
   "nbconvert_exporter": "python",
   "pygments_lexer": "ipython3",
   "version": "3.8.3"
  }
 },
 "nbformat": 4,
 "nbformat_minor": 4
}
